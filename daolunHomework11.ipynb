{
 "cells": [
  {
   "cell_type": "markdown",
   "id": "a1d28902-ae11-4966-838f-47a02ef563b0",
   "metadata": {},
   "source": [
    "互联网中充斥着大量钓鱼欺诈类网站。这类非法网站通常试图掩人耳目、充当正规网站，而实际上却是在窃取用户的身份、密码、交易等重要信息 机器学习在信息安全领域中的一个重要应用就是用来识别这些钓鱼网站。fraudulent.csv在data文件夹中。\n",
    "\r\n",
    "fraudulent.csv文件中含有10,086条数据，每条数据含有18个特征以及1个标签。各个特征的含义如：\r\n",
    "\r\n",
    "contain_IP：网址中是否包涵ip，比如http://121.99.3.123/fake.html 包含ip。1表示包含，0表示不包含；\r\n",
    "is_long：网址字符是否过长。1表示网址过长，0表示网址不长；\r\n",
    "is_tinyurl：网址是否是短网址。比如https://bit.ly/2kXX6jV 就是短网址。1表示是短网址，0表示不是；\r\n",
    "contain_at：网址是否包含“@”符号。1表示包含，0表示不包含；\r\n",
    "contain_double_slash：网址是否包含“//”符号，该符号用来表示网址跳转。1表示包含，0表示不包含；\r\n",
    "contain_dash：网址是否包含“-”符号，该符号经常帮助用来伪装真网站，比如www.my-taobao.com 。 1表示包含，0表示不包含；\r\n",
    "contain_subdomain：网址是否包含子域名，比如www.ecnu.edu.cn 就包含edu和cn子域名。1表示包含，0表示不包含；\r\n",
    "is_SSL：网址是否是https安全链接。1表示包含，0表示不包含；\r\n",
    "with_long_history：网址所属的主域名存在的时间。1表示长久，0表示不长久；\r\n",
    "contain_icon：网址网页是否有小图标。1表示包含，0表示不包含；\r\n",
    "contain_ext_domain：该网页是否加载其他域名下的附件或者网页。1表示包含，0表示不包含；\r\n",
    "contain_email_to：该网页是否包含发送邮件的组件。1表示包含，0表示不包含；\r\n",
    "allow_right_click：该网页是否允许用户进行右击操作。1表示允许，0表示不允许；\r\n",
    "contain_pop_up_windowL：该网页是否包含弹窗。1表示包含，0表示不包含；\r\n",
    "contain_Iframe：该网页是否包含Iframe（嵌套网页）。1表示包含，0表示不包含；\r\n",
    "has_DNSRecord：网址是否有DNS记录。1表示有，0表示无；\r\n",
    "traffic：该网站的流量大小。1表示大，0表示小；\r\n",
    "google_rank：该网址在google搜索中的排名。1表示高于同类网站平均排名，0表示低于同类网站的平均排名；\r\n",
    "\r\n",
    "y：表示网站是否是钓鱼欺诈网站，1表示是，0表示不是。\r\n",
    "原始数据中含有大量缺失值，请自行处理这些缺失值（可以剔除缺失值过多的列或者使用众数填充等方法）。\r\n",
    "将原始数据分为训练集、测试集（随机种子请设置为1）若有需要可以将训练集进一步分为训练集和验证集）。\r\n",
    "\r\n",
    "现在请建立一个分类模型，使用训练训练模型，再使用测试集测试模型。\r\n",
    "\r\n",
    "评估指标为F1值\r\n",
    "\r\n",
    "分类模型可采用：k-近邻、决策树、逻辑回归、支持向量机等。"
   ]
  },
  {
   "cell_type": "markdown",
   "id": "b2fb27ec-dcc7-4d02-9c58-1a0477841758",
   "metadata": {},
   "source": [
    "随机森林"
   ]
  },
  {
   "cell_type": "code",
   "execution_count": 21,
   "id": "01bdce5b-94c9-4e71-acdc-1c0b2f25e55c",
   "metadata": {},
   "outputs": [
    {
     "name": "stdout",
     "output_type": "stream",
     "text": [
      "Missing values per column: contain_IP                 90\n",
      "is_long                    89\n",
      "is_tinyurl                 88\n",
      "contain_at                 82\n",
      "contain_double_slash      116\n",
      "contain_dash               94\n",
      "contain_subdomain          97\n",
      "is_SSL                     96\n",
      "with_long_history        2795\n",
      "contain_icon             1358\n",
      "contain_ext_domain       1527\n",
      "contain_email_to         2079\n",
      "allow_right_click        3407\n",
      "contain_pop_up_window     279\n",
      "contain_Iframe            659\n",
      "has_DNSRecord            1201\n",
      "traffic                  1507\n",
      "google_rank               664\n",
      "y                           0\n",
      "dtype: int64\n",
      "F1 Score: 0.8637450199203188\n"
     ]
    }
   ],
   "source": [
    "import pandas as pd\n",
    "import numpy as np\n",
    "from sklearn.model_selection import train_test_split\n",
    "from sklearn.impute import SimpleImputer\n",
    "from sklearn.preprocessing import StandardScaler\n",
    "from sklearn.ensemble import RandomForestClassifier  \n",
    "from sklearn.metrics import f1_score\n",
    "data_path = 'C:\\\\Users\\\\任雪宁\\\\Desktop\\\\fraudulent.csv'\n",
    "df = pd.read_csv(data_path)\n",
    "missing_values = df.isnull().sum()\n",
    "print(\"Missing values per column:\", missing_values)\n",
    "threshold = 0.5 * len(df)\n",
    "to_drop = missing_values[missing_values > threshold].index\n",
    "df = df.drop(columns=to_drop)\n",
    "imputer = SimpleImputer(strategy='most_frequent')\n",
    "df_filled = pd.DataFrame(imputer.fit_transform(df), columns=df.columns)\n",
    "X = df_filled.drop(columns=['y'])\n",
    "y = df_filled['y']\n",
    "X_train, X_test, y_train, y_test = train_test_split(X, y, test_size=0.2, random_state=1)\n",
    "scaler = StandardScaler()\n",
    "X_train_scaled = scaler.fit_transform(X_train)\n",
    "X_test_scaled = scaler.transform(X_test)\n",
    "model = RandomForestClassifier(random_state=1)\n",
    "model.fit(X_train_scaled, y_train)\n",
    "y_pred = model.predict(X_test_scaled)\n",
    "f1 = f1_score(y_test, y_pred)\n",
    "print(\"F1 Score:\", f1)"
   ]
  },
  {
   "cell_type": "markdown",
   "id": "8ed95615-cddb-4af9-b61b-4cd9ed7a433a",
   "metadata": {},
   "source": [
    "K-近邻"
   ]
  },
  {
   "cell_type": "code",
   "execution_count": 17,
   "id": "5fcab46e-7e56-44e1-9298-25bacc0ab77e",
   "metadata": {},
   "outputs": [
    {
     "name": "stdout",
     "output_type": "stream",
     "text": [
      "Missing values per column: contain_IP                 90\n",
      "is_long                    89\n",
      "is_tinyurl                 88\n",
      "contain_at                 82\n",
      "contain_double_slash      116\n",
      "contain_dash               94\n",
      "contain_subdomain          97\n",
      "is_SSL                     96\n",
      "with_long_history        2795\n",
      "contain_icon             1358\n",
      "contain_ext_domain       1527\n",
      "contain_email_to         2079\n",
      "allow_right_click        3407\n",
      "contain_pop_up_window     279\n",
      "contain_Iframe            659\n",
      "has_DNSRecord            1201\n",
      "traffic                  1507\n",
      "google_rank               664\n",
      "y                           0\n",
      "dtype: int64\n",
      "F1 Score: 0.8412822517591868\n"
     ]
    }
   ],
   "source": [
    "import pandas as pd\n",
    "import numpy as np\n",
    "from sklearn.model_selection import train_test_split\n",
    "from sklearn.impute import SimpleImputer\n",
    "from sklearn.preprocessing import StandardScaler\n",
    "from sklearn.neighbors import KNeighborsClassifier \n",
    "from sklearn.metrics import f1_score\n",
    "data_path = 'C:\\\\Users\\\\任雪宁\\\\Desktop\\\\fraudulent.csv'\n",
    "df = pd.read_csv(data_path)\n",
    "missing_values = df.isnull().sum()\n",
    "print(\"Missing values per column:\", missing_values)\n",
    "threshold = 0.2 * len(df)\n",
    "to_drop = missing_values[missing_values > threshold].index\n",
    "df = df.drop(columns=to_drop)\n",
    "imputer = SimpleImputer(strategy='most_frequent')\n",
    "df_filled = pd.DataFrame(imputer.fit_transform(df), columns=df.columns)\n",
    "X = df_filled.drop(columns=['y'])\n",
    "y = df_filled['y']\n",
    "X_train, X_test, y_train, y_test = train_test_split(X, y, test_size=0.2, random_state=1)\n",
    "scaler = StandardScaler()\n",
    "X_train_scaled = scaler.fit_transform(X_train)\n",
    "X_test_scaled = scaler.transform(X_test)\n",
    "knn = KNeighborsClassifier(n_neighbors=5) \n",
    "knn.fit(X_train_scaled, y_train)\n",
    "y_pred = knn.predict(X_test_scaled)\n",
    "f1 = f1_score(y_test, y_pred)\n",
    "print(\"F1 Score:\", f1)"
   ]
  },
  {
   "cell_type": "markdown",
   "id": "19d4f1a7-d6ad-44cd-9b77-cfb23a83b917",
   "metadata": {},
   "source": [
    "逻辑回归"
   ]
  },
  {
   "cell_type": "code",
   "execution_count": 5,
   "id": "c387d2a1-9833-4414-97a1-6a8b839607b8",
   "metadata": {},
   "outputs": [
    {
     "name": "stdout",
     "output_type": "stream",
     "text": [
      "Missing values per column: contain_IP                 90\n",
      "is_long                    89\n",
      "is_tinyurl                 88\n",
      "contain_at                 82\n",
      "contain_double_slash      116\n",
      "contain_dash               94\n",
      "contain_subdomain          97\n",
      "is_SSL                     96\n",
      "with_long_history        2795\n",
      "contain_icon             1358\n",
      "contain_ext_domain       1527\n",
      "contain_email_to         2079\n",
      "allow_right_click        3407\n",
      "contain_pop_up_window     279\n",
      "contain_Iframe            659\n",
      "has_DNSRecord            1201\n",
      "traffic                  1507\n",
      "google_rank               664\n",
      "y                           0\n",
      "dtype: int64\n",
      "F1 Score: 0.85\n"
     ]
    }
   ],
   "source": [
    "import pandas as pd\n",
    "import numpy as np\n",
    "from sklearn.model_selection import train_test_split\n",
    "from sklearn.impute import SimpleImputer\n",
    "from sklearn.preprocessing import StandardScaler\n",
    "from sklearn.linear_model import LogisticRegression \n",
    "from sklearn.metrics import f1_score\n",
    "data_path = 'C:\\\\Users\\\\任雪宁\\\\Desktop\\\\fraudulent.csv'\n",
    "df = pd.read_csv(data_path)\n",
    "missing_values = df.isnull().sum()\n",
    "print(\"Missing values per column:\", missing_values)\n",
    "threshold = 0.5 * len(df)\n",
    "to_drop = missing_values[missing_values > threshold].index\n",
    "df = df.drop(columns=to_drop)\n",
    "imputer = SimpleImputer(strategy='most_frequent')\n",
    "df_filled = pd.DataFrame(imputer.fit_transform(df), columns=df.columns)\n",
    "X = df_filled.drop(columns=['y'])\n",
    "y = df_filled['y']\n",
    "X_train, X_test, y_train, y_test = train_test_split(X, y, test_size=0.2, random_state=1)\n",
    "scaler = StandardScaler()\n",
    "X_train_scaled = scaler.fit_transform(X_train)\n",
    "X_test_scaled = scaler.transform(X_test)\n",
    "model = LogisticRegression(random_state=1, max_iter=10000) \n",
    "model.fit(X_train_scaled, y_train)\n",
    "y_pred = model.predict(X_test_scaled)\n",
    "f1 = f1_score(y_test, y_pred)\n",
    "print(\"F1 Score:\", f1)"
   ]
  },
  {
   "cell_type": "markdown",
   "id": "8f03f3bf-578e-440d-93bf-36342f2024bb",
   "metadata": {},
   "source": [
    "支持向量机"
   ]
  },
  {
   "cell_type": "code",
   "execution_count": 7,
   "id": "3b0cb84f-fea0-4e4e-8bc0-faf53eaf2357",
   "metadata": {},
   "outputs": [
    {
     "name": "stdout",
     "output_type": "stream",
     "text": [
      "Missing values per column: contain_IP                 90\n",
      "is_long                    89\n",
      "is_tinyurl                 88\n",
      "contain_at                 82\n",
      "contain_double_slash      116\n",
      "contain_dash               94\n",
      "contain_subdomain          97\n",
      "is_SSL                     96\n",
      "with_long_history        2795\n",
      "contain_icon             1358\n",
      "contain_ext_domain       1527\n",
      "contain_email_to         2079\n",
      "allow_right_click        3407\n",
      "contain_pop_up_window     279\n",
      "contain_Iframe            659\n",
      "has_DNSRecord            1201\n",
      "traffic                  1507\n",
      "google_rank               664\n",
      "y                           0\n",
      "dtype: int64\n",
      "F1 Score: 0.8490566037735849\n"
     ]
    }
   ],
   "source": [
    "import pandas as pd\n",
    "import numpy as np\n",
    "from sklearn.model_selection import train_test_split\n",
    "from sklearn.impute import SimpleImputer\n",
    "from sklearn.preprocessing import StandardScaler\n",
    "from sklearn.svm import SVC  \n",
    "from sklearn.metrics import f1_score\n",
    "data_path =  'C:\\\\Users\\\\任雪宁\\\\Desktop\\\\fraudulent.csv'\n",
    "df = pd.read_csv(data_path)\n",
    "missing_values = df.isnull().sum()\n",
    "print(\"Missing values per column:\", missing_values)\n",
    "threshold = 0.5 * len(df)\n",
    "to_drop = missing_values[missing_values > threshold].index\n",
    "df = df.drop(columns=to_drop)\n",
    "imputer = SimpleImputer(strategy='most_frequent')\n",
    "df_filled = pd.DataFrame(imputer.fit_transform(df), columns=df.columns)\n",
    "X = df_filled.drop(columns=['y'])\n",
    "y = df_filled['y']\n",
    "X_train, X_test, y_train, y_test = train_test_split(X, y, test_size=0.2, random_state=1)\n",
    "scaler = StandardScaler()\n",
    "X_train_scaled = scaler.fit_transform(X_train)\n",
    "X_test_scaled = scaler.transform(X_test)\n",
    "model = SVC(kernel='linear', random_state=1) \n",
    "model.fit(X_train_scaled, y_train)\n",
    "y_pred = model.predict(X_test_scaled)\n",
    "f1 = f1_score(y_test, y_pred)\n",
    "print(\"F1 Score:\", f1)"
   ]
  },
  {
   "cell_type": "markdown",
   "id": "3a187574-a965-4bdf-8b7a-cb3ce3204a34",
   "metadata": {},
   "source": [
    "决策树"
   ]
  },
  {
   "cell_type": "code",
   "execution_count": 23,
   "id": "5677a1f6-d79c-429d-b8ea-8885710df2c0",
   "metadata": {},
   "outputs": [
    {
     "name": "stdout",
     "output_type": "stream",
     "text": [
      "Missing values per column: contain_IP                 90\n",
      "is_long                    89\n",
      "is_tinyurl                 88\n",
      "contain_at                 82\n",
      "contain_double_slash      116\n",
      "contain_dash               94\n",
      "contain_subdomain          97\n",
      "is_SSL                     96\n",
      "with_long_history        2795\n",
      "contain_icon             1358\n",
      "contain_ext_domain       1527\n",
      "contain_email_to         2079\n",
      "allow_right_click        3407\n",
      "contain_pop_up_window     279\n",
      "contain_Iframe            659\n",
      "has_DNSRecord            1201\n",
      "traffic                  1507\n",
      "google_rank               664\n",
      "y                           0\n",
      "dtype: int64\n",
      "F1 Score: 0.8667198723064644\n"
     ]
    }
   ],
   "source": [
    "import pandas as pd\n",
    "import numpy as np\n",
    "from sklearn.model_selection import train_test_split\n",
    "from sklearn.impute import SimpleImputer\n",
    "from sklearn.preprocessing import StandardScaler\n",
    "from sklearn.tree import DecisionTreeClassifier \n",
    "from sklearn.metrics import f1_score\n",
    "data_path ='C:\\\\Users\\\\任雪宁\\\\Desktop\\\\fraudulent.csv'\n",
    "df = pd.read_csv(data_path)\n",
    "missing_values = df.isnull().sum()\n",
    "print(\"Missing values per column:\", missing_values)\n",
    "threshold = 0.5 * len(df)\n",
    "to_drop = missing_values[missing_values > threshold].index\n",
    "df = df.drop(columns=to_drop)\n",
    "imputer = SimpleImputer(strategy='most_frequent')\n",
    "df_filled = pd.DataFrame(imputer.fit_transform(df), columns=df.columns)\n",
    "X = df_filled.drop(columns=['y'])\n",
    "y = df_filled['y']\n",
    "X_train, X_test, y_train, y_test = train_test_split(X, y, test_size=0.2, random_state=1)\n",
    "X_train_to_use = X_train\n",
    "X_test_to_use = X_test\n",
    "model = DecisionTreeClassifier(random_state=1)\n",
    "model.fit(X_train_to_use, y_train)\n",
    "y_pred = model.predict(X_test_to_use)\n",
    "f1 = f1_score(y_test, y_pred)\n",
    "print(\"F1 Score:\", f1)"
   ]
  }
 ],
 "metadata": {
  "kernelspec": {
   "display_name": "Python 3 (ipykernel)",
   "language": "python",
   "name": "python3"
  },
  "language_info": {
   "codemirror_mode": {
    "name": "ipython",
    "version": 3
   },
   "file_extension": ".py",
   "mimetype": "text/x-python",
   "name": "python",
   "nbconvert_exporter": "python",
   "pygments_lexer": "ipython3",
   "version": "3.11.7"
  }
 },
 "nbformat": 4,
 "nbformat_minor": 5
}
