{
 "cells": [
  {
   "cell_type": "markdown",
   "id": "a4ed289f-fa37-4cd5-88f1-cde38c87ba77",
   "metadata": {},
   "source": [
    "1.编写 Python程序,判断输入a是否为质数"
   ]
  },
  {
   "cell_type": "code",
   "execution_count": 58,
   "id": "824c9e41-3ea4-4b1e-8e82-bae34e6f3ab2",
   "metadata": {},
   "outputs": [
    {
     "name": "stdin",
     "output_type": "stream",
     "text": [
      " 225\n"
     ]
    },
    {
     "name": "stdout",
     "output_type": "stream",
     "text": [
      "F\n"
     ]
    }
   ],
   "source": [
    "a=int(input())\n",
    "i=2\n",
    "if a<=1:\n",
    "    print(\"F\")\n",
    "elif a<=3:\n",
    "   print(\"T\")\n",
    "else:\n",
    "     while i<=a:\n",
    "        if a==i:\n",
    "           print(\"T\")\n",
    "           break\n",
    "        if a%i==0:\n",
    "         print(\"F\")\n",
    "         break\n",
    "        i=i+1"
   ]
  },
  {
   "cell_type": "markdown",
   "id": "389eb668-4482-4ddf-a3e5-d37036340abd",
   "metadata": {},
   "source": [
    "2.用Python实现插入排序该算法，不允许直接调用插入排序函数，需要手动实现其逻辑过程。"
   ]
  },
  {
   "cell_type": "code",
   "execution_count": 9,
   "id": "3e6e4a40-faf1-4288-83e9-ffe6aa3d6d79",
   "metadata": {},
   "outputs": [
    {
     "name": "stdin",
     "output_type": "stream",
     "text": [
      "请输入一组用逗号分隔的数字:  9,8,7,6,5,4,3,2,1,0\n"
     ]
    },
    {
     "name": "stdout",
     "output_type": "stream",
     "text": [
      "[0, 1, 2, 3, 4, 5, 6, 7, 8, 9]\n"
     ]
    }
   ],
   "source": [
    "user_input = input(\"请输入一组用逗号分隔的数字: \")  \n",
    "numbers = list(map(int, user_input.split(',')))  \n",
    "for i in range(0, len(numbers)):  \n",
    "        j = i - 1  \n",
    "        key=numbers[i]\n",
    "        while j >= 0 and numbers[j] > key:\n",
    "            numbers[j+1] = numbers[j]   \n",
    "            numbers[j] =key\n",
    "            j=j-1\n",
    "print(numbers)"
   ]
  },
  {
   "cell_type": "markdown",
   "id": "747969e1-225b-4bfc-b323-44493f1346d6",
   "metadata": {},
   "source": [
    "3.用Python实现选择排序该算法，不允许直接调用插入排序函数，需要手动实现其逻辑过程。"
   ]
  },
  {
   "cell_type": "code",
   "execution_count": 29,
   "id": "4975bb41-7a29-4f54-a868-06dcccb4ce56",
   "metadata": {},
   "outputs": [
    {
     "name": "stdin",
     "output_type": "stream",
     "text": [
      "请输入一组用逗号分隔的数字:  9,8,7,6,0\n"
     ]
    },
    {
     "name": "stdout",
     "output_type": "stream",
     "text": [
      "[0, 6, 7, 8, 9]\n"
     ]
    }
   ],
   "source": [
    "user_input = input(\"请输入一组用逗号分隔的数字: \")  \n",
    "numbers = list(map(int, user_input.split(','))) \n",
    "n=len(numbers)\n",
    "i=0\n",
    "if n<=1:\n",
    "    print(numbers)\n",
    "else :\n",
    "   while i<n-1:\n",
    "    for a in range(i,n):\n",
    "        m=numbers[i]\n",
    "        if m>numbers[a]:\n",
    "            m=numbers[a]\n",
    "            k=a\n",
    "            key=numbers[i]\n",
    "            numbers[i]=m\n",
    "            numbers[k]=key\n",
    "    i=i+1\n",
    "print(numbers)"
   ]
  },
  {
   "cell_type": "markdown",
   "id": "7f51927f-3e35-4aa3-a48e-4c0dfafce5e4",
   "metadata": {},
   "source": [
    "4.用Python实现快速排序该算法，不允许直接调用插入排序函数，需要手动实现其逻辑过程。"
   ]
  },
  {
   "cell_type": "code",
   "execution_count": 26,
   "id": "7e23247b-0859-4579-9d49-820ea54e4c20",
   "metadata": {},
   "outputs": [
    {
     "name": "stdin",
     "output_type": "stream",
     "text": [
      "请输入一组用逗号分隔的数字:  67,8,9,0,3,5,12,47\n"
     ]
    },
    {
     "name": "stdout",
     "output_type": "stream",
     "text": [
      "[0, 3, 5, 8, 9, 12, 47, 67]\n"
     ]
    }
   ],
   "source": [
    "def q(numbers):   \n",
    "    if len(numbers) <= 1:  \n",
    "        return numbers  \n",
    "    else:  \n",
    "        k=0\n",
    "        key=numbers[0]\n",
    "        list1=[]\n",
    "        list2=[]\n",
    "        for i in range (0,len(numbers))  :               \n",
    "#less_than_key = [x for x in numbers[1:] if x <= key]   greater_than_key = [x for x in numbers[1:] if x > key] 另一种方法  \n",
    "            if key>numbers[i]:\n",
    "                list1.append(numbers[i])\n",
    "            if key<numbers[i]:\n",
    "                 list2.append(numbers[i])\n",
    "        return q(list1)+[key]+q(list2)\n",
    "user_input = input(\"请输入一组用逗号分隔的数字: \")  \n",
    "numbers = list(map(int, user_input.split(','))) \n",
    "print(q(numbers))"
   ]
  },
  {
   "cell_type": "markdown",
   "id": "038264ca-961a-4c93-8cbb-a975ce794d17",
   "metadata": {},
   "source": [
    "5.使用 Python 随机生成三组长度递增的随机数列，长度分别为100、1000、10000，对生成的随机数组使用不同的排序算法，例如选择排序和归并排序，至少三种排序方法。对这些数列的数据排序，并分析不同排序算法在不同长度数列下的运行效果，例如运行时间等指标。（可以使用排序函数）"
   ]
  },
  {
   "cell_type": "code",
   "execution_count": 76,
   "id": "f417d918-73d8-42b8-a703-9c4df437bf4f",
   "metadata": {},
   "outputs": [
    {
     "name": "stdout",
     "output_type": "stream",
     "text": [
      "0.0\n",
      "0.001995086669921875\n",
      "0.002735614776611328\n",
      "0.004633903503417969\n",
      "0.0672922134399414\n",
      "0.056832313537597656\n",
      "0.04247021675109863\n",
      "5.802091836929321\n",
      "5.350987911224365\n"
     ]
    }
   ],
   "source": [
    "import random\n",
    "import time\n",
    "def q(numbers):   \n",
    "    if len(numbers) <= 1:  \n",
    "        return numbers  \n",
    "    else:  \n",
    "        k=0\n",
    "        key=numbers[0]\n",
    "        list1=[]\n",
    "        list2=[]\n",
    "        for i in range (0,len(numbers))  :               \n",
    "            if key>numbers[i]:\n",
    "                list1.append(numbers[i])\n",
    "            if key<numbers[i]:\n",
    "                 list2.append(numbers[i])\n",
    "        return q(list1)+[key]+q(list2)\n",
    "def s(numbers):\n",
    "     if len(numbers) <= 1:  \n",
    "        return numbers  \n",
    "     else:\n",
    "         for i in range(0, len(numbers)):  \n",
    "               j = i - 1  \n",
    "               key=numbers[i]\n",
    "               while j >= 0 and numbers[j] > key:\n",
    "                      numbers[j+1] = numbers[j]   \n",
    "                      numbers[j] =key\n",
    "                      j=j-1\n",
    "     return numbers\n",
    "def c(numbers):\n",
    "    n=len(numbers)\n",
    "    i=0\n",
    "    if n<=1:\n",
    "       return numbers\n",
    "    else :\n",
    "         while i<n-1:\n",
    "            for a in range(i,n):\n",
    "              m=numbers[i]\n",
    "              if m>numbers[a]:\n",
    "                  m=numbers[a]\n",
    "                  k=a\n",
    "                  key=numbers[i]\n",
    "                  numbers[i]=m\n",
    "                  numbers[k]=key\n",
    "            i=i+1\n",
    "    return numbers\n",
    "def random_list(length, lower=0, upper=100000):  \n",
    "    return [random.randint(lower, upper) for _ in range(length)]  \n",
    "random_list_100 = random_list(100)  \n",
    "random_list_1000 = random_list(1000)  \n",
    "random_list_10000 = random_list(10000)\n",
    "start_time_100_1 = time.time()\n",
    "q(random_list_100)\n",
    "end_time_100_1 = time.time()  \n",
    "elapsed_time_100_1 = end_time_100_1 - start_time_100_1\n",
    "start_time_100_2 = time.time()\n",
    "s(random_list_100)\n",
    "end_time_100_2 = time.time()  \n",
    "elapsed_time_100_2 = end_time_100_2 - start_time_100_2\n",
    "start_time_100_3 = time.time()\n",
    "c(random_list_100)\n",
    "end_time_100_3 = time.time()  \n",
    "elapsed_time_100_3 = end_time_100_3 - start_time_100_3\n",
    "start_time_1000_1 = time.time()  \n",
    "q(random_list_1000)\n",
    "end_time_1000_1 = time.time()  \n",
    "elapsed_time_1000_1 = end_time_1000_1 - start_time_1000_1\n",
    "start_time_1000_2 = time.time()  \n",
    "s(random_list_1000)\n",
    "end_time_1000_2 = time.time()  \n",
    "elapsed_time_1000_2 = end_time_1000_2 - start_time_1000_2\n",
    "start_time_1000_3 = time.time()  \n",
    "c(random_list_1000)\n",
    "end_time_1000_3 = time.time()  \n",
    "elapsed_time_1000_3 = end_time_1000_3 - start_time_1000_3\n",
    "start_time_10000_1 = time.time()  \n",
    "q(random_list_10000)\n",
    "end_time_10000_1 = time.time()  \n",
    "elapsed_time_10000_1 = end_time_10000_1 - start_time_10000_1\n",
    "start_time_10000_2 = time.time()  \n",
    "s(random_list_10000)\n",
    "end_time_10000_2 = time.time()  \n",
    "elapsed_time_10000_2 = end_time_10000_2 - start_time_10000_2\n",
    "start_time_10000_3 = time.time()  \n",
    "c(random_list_10000)\n",
    "end_time_10000_3 = time.time()  \n",
    "elapsed_time_10000_3 = end_time_10000_3 - start_time_10000_3\n",
    "print(elapsed_time_100_1)\n",
    "print(elapsed_time_100_2)\n",
    "print(elapsed_time_100_3)\n",
    "print(elapsed_time_1000_1)\n",
    "print(elapsed_time_1000_2)\n",
    "print(elapsed_time_1000_3)\n",
    "print(elapsed_time_10000_1)\n",
    "print(elapsed_time_10000_2)\n",
    "print(elapsed_time_10000_3)"
   ]
  },
  {
   "cell_type": "markdown",
   "id": "c3e79207-1429-492c-89d2-e4fad0cb4688",
   "metadata": {},
   "source": [
    "选择排序：\r",
    "\t时间复杂度为 O(n2加。o\t在长度为100的数列上，运行时间较短，但在1000和10000的数列上，运行时显著增加2.\t快rt\r\n",
    "o\t平均时间复杂度为 O(nl表现。\r\n",
    "o\t在长度为100、1000、10000的数列上较为平均加中好。\r\n",
    "n rt）：\r\n",
    "o\t时间复杂有序表现较好。\r\n",
    "o\t在长度为100的数列上，运行时间较短，但在1000和10000的数列上，行时间显著增加。\r\n"
   ]
  },
  {
   "cell_type": "markdown",
   "id": "ef4b39a7-575b-4871-87b8-fde5ef725b4a",
   "metadata": {},
   "source": [
    "6.使用python代码获取当前系统时间"
   ]
  },
  {
   "cell_type": "code",
   "execution_count": 68,
   "id": "c967f6bf-73b8-4295-8fb7-25db6663e554",
   "metadata": {},
   "outputs": [
    {
     "name": "stdout",
     "output_type": "stream",
     "text": [
      "当前系统时间: 2024-10-15 23:06:37.050595\n"
     ]
    }
   ],
   "source": [
    "from datetime import datetime  \n",
    "current_time = datetime.now()  \n",
    "print(\"当前系统时间:\", current_time)"
   ]
  },
  {
   "cell_type": "markdown",
   "id": "7cbda780-1510-43a8-ab52-a73929c4a91b",
   "metadata": {},
   "source": [
    "7.Homework/data文件夹下的stuGrade.csv文件中包含5位同学的学号、语文成绩、数学成绩和英语成绩，请先用记事本打开该文件，查看文件内容，然后编写Python程序，读取该文件，并计算出各科的平均成绩（保留2位小数）。"
   ]
  },
  {
   "cell_type": "code",
   "execution_count": 114,
   "id": "c230f7e9-5e2e-46b3-bbd6-b9a531465330",
   "metadata": {},
   "outputs": [
    {
     "name": "stdout",
     "output_type": "stream",
     "text": [
      "语文平均成绩： 17.19 数学平均成绩： 14.91 英语平均成绩： 16.66\n"
     ]
    }
   ],
   "source": [
    "import pandas as pd  \n",
    "df = pd.read_csv('C:\\\\Users\\\\任雪宁\\\\Desktop\\\\stuGrade.csv')    \n",
    "cols_you_want = df.iloc[:, [1, 2,3]  ]\n",
    "arr = cols_you_want.to_numpy() \n",
    "C=0.0\n",
    "M=0.0\n",
    "E=0.0\n",
    "for i in range(-1,5):\n",
    "    C=C+arr[i,0]\n",
    "    C=C/5.0\n",
    "for i in range(-1,5):\n",
    "    M=M+arr[i,1]\n",
    "    M=M/5.0\n",
    "for i in range(-1,5):\n",
    "    E=E+arr[i,2]\n",
    "    E=E/5.0\n",
    "print(\"语文平均成绩：\",f\"{C:.2f}\",\"数学平均成绩：\",f\"{M:.2f}\",\"英语平均成绩：\",f\"{E:.2f}\")"
   ]
  },
  {
   "cell_type": "markdown",
   "id": "c00b4220-385e-4466-ad4b-f3f41b079afe",
   "metadata": {},
   "source": [
    "8.请在第7题的代码继续编写Python程序，将以下内容写入my.txt文件中，一并上传到github中。\r\n",
    "\r\n",
    "第1行：你的学号和姓名\r\n",
    "\r\n",
    "第2行：3门课程的平均成绩（任意课程），保留2位小数，以英文逗号间隔\r\n",
    "\r\n",
    "第3行：系统当前时间，格式例如2020-01-01 12:00:00\r\n",
    "\r\n",
    "第4行：两秒后的系统当前时间（利用sleep()方法）"
   ]
  },
  {
   "cell_type": "code",
   "execution_count": 19,
   "id": "bfceb00e-f9e2-4c98-be95-cd3a35e26f7a",
   "metadata": {},
   "outputs": [],
   "source": [
    "import pandas as pd  \n",
    "import time\n",
    "from datetime import datetime  \n",
    "current_time = datetime.now()\n",
    "time.sleep(2)\n",
    "wait_time=datetime.now()\n",
    "df = pd.read_csv('C:\\\\Users\\\\任雪宁\\\\Desktop\\\\stuGrade.csv')    \n",
    "cols_you_want = df.iloc[:, [1, 2,3]  ]\n",
    "arr = cols_you_want.to_numpy() \n",
    "C=0.0\n",
    "M=0.0\n",
    "E=0.0\n",
    "for i in range(-1,5):\n",
    "    C=C+arr[i,0]\n",
    "    C=C/5.0\n",
    "for i in range(-1,5):\n",
    "    M=M+arr[i,1]\n",
    "    M=M/5.0\n",
    "for i in range(-1,5):\n",
    "    E=E+arr[i,2]\n",
    "    E=E/5.0\n",
    "formatted_string = f\"{C:.2f},{M:.2f},{E:.2f}\"\n",
    "\n",
    "content = \"10235501433  任雪宁\"  \n",
    "with open('C:\\\\Users\\\\任雪宁\\\\Desktop\\\\my.txt', 'w', encoding='utf-8') as file:  \n",
    "    file.write(content + \"\\n\") \n",
    "    file.write(formatted_string + \"\\n\") \n",
    "    file.write(str(current_time) + \"\\n\") \n",
    "    file.write(str(wait_time))\n",
    "file.close()"
   ]
  }
 ],
 "metadata": {
  "kernelspec": {
   "display_name": "Python 3 (ipykernel)",
   "language": "python",
   "name": "python3"
  },
  "language_info": {
   "codemirror_mode": {
    "name": "ipython",
    "version": 3
   },
   "file_extension": ".py",
   "mimetype": "text/x-python",
   "name": "python",
   "nbconvert_exporter": "python",
   "pygments_lexer": "ipython3",
   "version": "3.11.7"
  }
 },
 "nbformat": 4,
 "nbformat_minor": 5
}
