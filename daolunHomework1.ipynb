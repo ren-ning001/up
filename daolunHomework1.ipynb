{
 "cells": [
  {
   "cell_type": "markdown",
   "id": "4ec10701-9cd3-4cd5-ac8b-e2f815dcc840",
   "metadata": {},
   "source": [
    "1.编写Python程序，打印\"数据科学与工程导论\"，并使用 print(chr(0x2605)) 语句将星星包围起来。"
   ]
  },
  {
   "cell_type": "code",
   "execution_count": 20,
   "id": "62b9a9c7-99bd-49c7-9884-136fa285721e",
   "metadata": {},
   "outputs": [
    {
     "name": "stdout",
     "output_type": "stream",
     "text": [
      "★ ★ ★ ★ ★ ★ ★ ★\n",
      "★ 数据科学与工程导论 ★\n",
      "★ ★ ★ ★ ★ ★ ★ ★\n"
     ]
    }
   ],
   "source": [
    "print(chr(0x2605),chr(0x2605),chr(0x2605),chr(0x2605),chr(0x2605),chr(0x2605),chr(0x2605),chr(0x2605))\n",
    "print(chr(0x2605), \"数据科学与工程导论\" ,chr(0x2605))\n",
    "print(chr(0x2605),chr(0x2605),chr(0x2605),chr(0x2605),chr(0x2605),chr(0x2605),chr(0x2605),chr(0x2605))"
   ]
  },
  {
   "cell_type": "markdown",
   "id": "6ecfb3eb-faed-4f46-aa26-863f8bff10c2",
   "metadata": {},
   "source": [
    "2.写一个 Python 程序，输入 x, y, z 这三个数，将这三个数从小到大使用 print 函数打印出来。"
   ]
  },
  {
   "cell_type": "code",
   "execution_count": 28,
   "id": "c7195a08-7b9c-4b65-91d5-3c8ad5bde15f",
   "metadata": {},
   "outputs": [
    {
     "name": "stdin",
     "output_type": "stream",
     "text": [
      " 2\n",
      " 1\n",
      " 4\n"
     ]
    },
    {
     "name": "stdout",
     "output_type": "stream",
     "text": [
      "1 2 4\n"
     ]
    }
   ],
   "source": [
    "x=input()\n",
    "y=input()\n",
    "z=input()\n",
    "if x>y:\n",
    "   key=x\n",
    "   x=y\n",
    "   y=key\n",
    "if y>z:\n",
    "    key=y\n",
    "    y=z\n",
    "    z=key\n",
    "if x>z:\n",
    "    key=x\n",
    "    x=z\n",
    "    z=key\n",
    "print(x,y,z)\n",
    "\n"
   ]
  },
  {
   "cell_type": "markdown",
   "id": "3535bb00-e7e8-4bd4-985e-b05e5746fac3",
   "metadata": {},
   "source": [
    "3.写一个 Python 程序，有 w, x, y, z 四个数，将这四个数从大到小使用 print 函数打印出来。"
   ]
  },
  {
   "cell_type": "code",
   "execution_count": 32,
   "id": "6288da37-b1d1-4eec-a2a5-42ed8f4c13c3",
   "metadata": {},
   "outputs": [
    {
     "name": "stdin",
     "output_type": "stream",
     "text": [
      " 4\n",
      " 2\n",
      " 6\n",
      " 1\n"
     ]
    },
    {
     "name": "stdout",
     "output_type": "stream",
     "text": [
      "6\n",
      "4\n",
      "2\n",
      "1\n"
     ]
    }
   ],
   "source": [
    "w=input()\n",
    "x=input()\n",
    "y=input()\n",
    "z=input()\n",
    "numbers=[w,x,y,z]\n",
    "sorted_numbers = sorted(numbers, reverse=True) \n",
    "for num in sorted_numbers:  \n",
    "    print(num)"
   ]
  },
  {
   "cell_type": "markdown",
   "id": "7655812d-c981-44d7-b405-98b7af8fc277",
   "metadata": {},
   "source": [
    "4.写一个 Python 程序，输出 1-100 中的所有奇数。"
   ]
  },
  {
   "cell_type": "code",
   "execution_count": 41,
   "id": "00686ae0-549f-4bd8-9acf-f21390a48dc1",
   "metadata": {},
   "outputs": [
    {
     "name": "stdout",
     "output_type": "stream",
     "text": [
      "1\n",
      "3\n",
      "5\n",
      "7\n",
      "9\n",
      "11\n",
      "13\n",
      "15\n",
      "17\n",
      "19\n",
      "21\n",
      "23\n",
      "25\n",
      "27\n",
      "29\n",
      "31\n",
      "33\n",
      "35\n",
      "37\n",
      "39\n",
      "41\n",
      "43\n",
      "45\n",
      "47\n",
      "49\n",
      "51\n",
      "53\n",
      "55\n",
      "57\n",
      "59\n",
      "61\n",
      "63\n",
      "65\n",
      "67\n",
      "69\n",
      "71\n",
      "73\n",
      "75\n",
      "77\n",
      "79\n",
      "81\n",
      "83\n",
      "85\n",
      "87\n",
      "89\n",
      "91\n",
      "93\n",
      "95\n",
      "97\n",
      "99\n"
     ]
    }
   ],
   "source": [
    "i=1\n",
    "while i<=100:\n",
    "    if i%2!=0:\n",
    "        print(i)\n",
    "    i+=1"
   ]
  },
  {
   "cell_type": "markdown",
   "id": "3e85e80a-e825-473a-9d5d-4ee98aba660d",
   "metadata": {},
   "source": [
    "5.写一个 Python 程序，用 for 循环，求解 1 到 100 的和。"
   ]
  },
  {
   "cell_type": "code",
   "execution_count": 45,
   "id": "c9ed9cf9-59a9-495f-ba70-da2f504b32f0",
   "metadata": {},
   "outputs": [
    {
     "name": "stdout",
     "output_type": "stream",
     "text": [
      "5050\n"
     ]
    }
   ],
   "source": [
    "sum=0\n",
    "for i in range(1,101):\n",
    "    sum=sum+i\n",
    "print(sum)\n",
    "    "
   ]
  },
  {
   "cell_type": "markdown",
   "id": "1767284f-610a-46af-9f3b-973e38f0ff18",
   "metadata": {},
   "source": [
    "6.写一个 Python 程序，分别用 for 和 while 循环实现对一个给定序列的倒排序输出。例如，给定 L=[1,2,3,4,5]，输出为 [5,4,3,2,1]"
   ]
  },
  {
   "cell_type": "code",
   "execution_count": 49,
   "id": "c43ccd40-ac42-41bb-b618-3f854aef932f",
   "metadata": {},
   "outputs": [
    {
     "name": "stdout",
     "output_type": "stream",
     "text": [
      "[5, 4, 3, 2, 1]\n",
      "[5, 4, 3, 2, 1]\n"
     ]
    }
   ],
   "source": [
    "L = [1, 2, 3, 4, 5]  \n",
    "reversed_L = []  \n",
    "for i in range(len(L) - 1, -1, -1): \n",
    "    reversed_L.append(L[i])  \n",
    "print(reversed_L) \n",
    "\n",
    "L = [1, 2, 3, 4, 5]  \n",
    "reversed_L = []  \n",
    "i = len(L) - 1  \n",
    "while i >= 0:   \n",
    "    reversed_L.append(L[i])  \n",
    "    i -= 1    \n",
    "print(reversed_L)  # 输出: [5, 4, 3, 2, 1]"
   ]
  },
  {
   "cell_type": "markdown",
   "id": "3e53349e-0876-4761-aea9-4b2008ee4976",
   "metadata": {},
   "source": [
    "7.写一个 Python 程序，判断一个输入的字符串 S 是否包含由两个或两个以上连续出现的相同字符组成的字符串。例如，abccccda 中就包含 cccc 这个由 4 个连续字符组成的字符串。"
   ]
  },
  {
   "cell_type": "code",
   "execution_count": 7,
   "id": "70b9712c-4e2a-4823-9dbf-49294cf2bec3",
   "metadata": {},
   "outputs": [
    {
     "name": "stdout",
     "output_type": "stream",
     "text": [
      "The string 'abccccda' contains consecutive characters.\n"
     ]
    }
   ],
   "source": [
    "def has_consecutive_chars(s):  \n",
    "    for i in range(len(s) - 1):  \n",
    "        if s[i] == s[i + 1]:  \n",
    "            j = i + 1  \n",
    "            while j < len(s) and s[j] == s[i]:  \n",
    "                j += 1   \n",
    "            if j - i >= 2:  \n",
    "                return True  \n",
    "    return False  \n",
    "test_strings = [\"abccccda\"]  \n",
    "for s in test_strings:  \n",
    "    print(f\"The string '{s}' {'contains' if has_consecutive_chars(s) else 'does not contain'} consecutive characters.\")"
   ]
  },
  {
   "cell_type": "markdown",
   "id": "f7ea4892-46ce-4862-8ec8-8693d84fdd7d",
   "metadata": {},
   "source": [
    "8.写一个 Python 程序，输入一个字符串 S，去掉其中所有的空格后输出。例如，“DataScience and Engineering”，去掉空格后为“DataScienceandEngineering”。"
   ]
  },
  {
   "cell_type": "code",
   "execution_count": 11,
   "id": "af2a720e-7c42-4516-bf93-e0a4e6a4e679",
   "metadata": {},
   "outputs": [
    {
     "name": "stdout",
     "output_type": "stream",
     "text": [
      "DataScienceandEngineerin\n"
     ]
    }
   ],
   "source": [
    "sentence = \"DataScience and Engineerin\"  \n",
    "no_spaces_sentence = sentence.replace(\" \", \"\")  \n",
    "print(no_spaces_sentence)  "
   ]
  },
  {
   "cell_type": "markdown",
   "id": "7891e1a3-fc34-4b15-9331-e79477088676",
   "metadata": {},
   "source": [
    "9.请设计一个求 3 次方根的算法（不允许直接调用求方根的函数），并给出对应的 Python 程序。 采用牛顿迭代法求解，迭代过程数学公式表示为： \n"
   ]
  },
  {
   "cell_type": "code",
   "execution_count": 3,
   "id": "79a0120a-e2ff-4614-994b-adb4c9594eed",
   "metadata": {},
   "outputs": [
    {
     "name": "stdin",
     "output_type": "stream",
     "text": [
      " 8\n"
     ]
    },
    {
     "name": "stdout",
     "output_type": "stream",
     "text": [
      "2.0\n"
     ]
    }
   ],
   "source": [
    "a=input()\n",
    "a=float(a)\n",
    "def cube_root(a, tolerance=1e-10, max_iterations=1000):  \n",
    "    if a == 0:  \n",
    "        return 0  \n",
    "    x = a / 5.0 \n",
    "    for _ in range(max_iterations):  \n",
    "        next_x = (2 * x**3 + a) / (3 * x**2)  \n",
    "        if abs(next_x - x) < tolerance:  \n",
    "            return next_x  \n",
    "        x = next_x  \n",
    "    return x \n",
    "print(cube_root(a)) "
   ]
  },
  {
   "cell_type": "markdown",
   "id": "d0962892-7f83-4aad-93c5-f7871c2bd90f",
   "metadata": {},
   "source": [
    "10.写一个 Python 程序，给定一个常数 n（n>0），求 n 的阶乘，即 n!=1×2×...×(n-1)×n。例如，4!=24，5!=120。"
   ]
  },
  {
   "cell_type": "code",
   "execution_count": 29,
   "id": "cc5e380b-356a-423c-af4e-0d20d0760518",
   "metadata": {},
   "outputs": [
    {
     "name": "stdin",
     "output_type": "stream",
     "text": [
      " 5\n"
     ]
    },
    {
     "name": "stdout",
     "output_type": "stream",
     "text": [
      "120\n"
     ]
    }
   ],
   "source": [
    "x=input()\n",
    "x=int(x)\n",
    "sum=1\n",
    "for i in range(1,x+1):\n",
    "    sum=sum*i\n",
    "print(sum)"
   ]
  }
 ],
 "metadata": {
  "kernelspec": {
   "display_name": "Python 3 (ipykernel)",
   "language": "python",
   "name": "python3"
  },
  "language_info": {
   "codemirror_mode": {
    "name": "ipython",
    "version": 3
   },
   "file_extension": ".py",
   "mimetype": "text/x-python",
   "name": "python",
   "nbconvert_exporter": "python",
   "pygments_lexer": "ipython3",
   "version": "3.11.7"
  }
 },
 "nbformat": 4,
 "nbformat_minor": 5
}
