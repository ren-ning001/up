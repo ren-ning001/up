{
 "cells": [
  {
   "cell_type": "markdown",
   "id": "64bd1c57-1317-471b-98c2-d8df199ab34b",
   "metadata": {},
   "source": [
    "1. 编写 Python 程序，求两个正整数的最大公约数。"
   ]
  },
  {
   "cell_type": "code",
   "execution_count": 12,
   "id": "d33db1e5-6a36-402c-9e86-8898c8ebe910",
   "metadata": {},
   "outputs": [
    {
     "name": "stdin",
     "output_type": "stream",
     "text": [
      " 100\n",
      " 18\n"
     ]
    },
    {
     "name": "stdout",
     "output_type": "stream",
     "text": [
      "2\n"
     ]
    }
   ],
   "source": [
    "x=int(input())\n",
    "y=int(input())\n",
    "i=x%y\n",
    "c=y\n",
    "while i!=0:\n",
    "    b=i\n",
    "    i=c%b\n",
    "    c=b\n",
    "print (b)"
   ]
  },
  {
   "cell_type": "markdown",
   "id": "b511a617-f81d-4919-9a75-078e85ee0be1",
   "metadata": {},
   "source": [
    "2. 用if语句实现百分制转等级制（考试成绩，60分以下不合格，60—74分合格，75—89分为良好，90分以上为优秀）。"
   ]
  },
  {
   "cell_type": "code",
   "execution_count": 23,
   "id": "58f564e9-f11e-41bd-a846-6498c0fc397b",
   "metadata": {},
   "outputs": [
    {
     "name": "stdin",
     "output_type": "stream",
     "text": [
      " 45\n"
     ]
    },
    {
     "name": "stdout",
     "output_type": "stream",
     "text": [
      "不合格\n"
     ]
    }
   ],
   "source": [
    "x=int(input())\n",
    "if x<60:\n",
    "    print(\"不合格\")\n",
    "if ((x>60)and(x<=74)):\n",
    "    print(\"合格\")\n",
    "if((x>=75)and(x<=89)):\n",
    "    print(\"良好\")\n",
    "if x>=90:\n",
    "    print(\"优秀\")"
   ]
  },
  {
   "cell_type": "markdown",
   "id": "65781f56-fff2-47be-87c8-d77891fc0eb4",
   "metadata": {},
   "source": [
    "3. 编写Python程序，完成十到二进制小数的转换"
   ]
  },
  {
   "cell_type": "code",
   "execution_count": 70,
   "id": "dfb23c9c-0545-41a6-b32d-1440a003b2c6",
   "metadata": {},
   "outputs": [
    {
     "name": "stdin",
     "output_type": "stream",
     "text": [
      " 12.5\n"
     ]
    },
    {
     "name": "stdout",
     "output_type": "stream",
     "text": [
      "01100.1\n"
     ]
    }
   ],
   "source": [
    "a=float(input())\n",
    "c=a-int(a)\n",
    "b=int(a)\n",
    "d=b%2\n",
    "e=''\n",
    "h=''\n",
    "if d==0:\n",
    "   e=e+'0'\n",
    "else:e=e+'1'\n",
    "while b!=0:\n",
    "    b=b//2\n",
    "    d=b%2\n",
    "    if d==0:\n",
    "       e=e+'0'\n",
    "    else :e=e+'1'\n",
    "d=c*2.0\n",
    "b=d-int(d)\n",
    "if int(d)==0:\n",
    "    h=h+'0'\n",
    "else:h=h+'1'\n",
    "while b!=0:\n",
    "    d=d*2.0\n",
    "    b=d-int(d)\n",
    "    if int(d)==0:\n",
    "     h=h+'0'\n",
    "    else:h=h+'1'\n",
    "h=e[::-1]+'.'+h\n",
    "print(h)"
   ]
  },
  {
   "cell_type": "markdown",
   "id": "58daa594-0ab5-40c6-83d7-be73f34aa589",
   "metadata": {},
   "source": [
    "4. 编写Python程序，产生10-20的随机浮点数"
   ]
  },
  {
   "cell_type": "code",
   "execution_count": 74,
   "id": "6e183070-6901-4956-bc78-58d397d13eab",
   "metadata": {},
   "outputs": [
    {
     "name": "stdout",
     "output_type": "stream",
     "text": [
      "11.764570344098983\n"
     ]
    }
   ],
   "source": [
    "import random   \n",
    "x= random.uniform(10, 20)  \n",
    "print(x)"
   ]
  },
  {
   "cell_type": "markdown",
   "id": "a3251d89-47e3-4f72-9994-c95ed72eb0c7",
   "metadata": {},
   "source": [
    "5. 编写一个Python函数，判断一个整数是否是回文数。回文数是指正序（从左向右）和倒序（从右向左）读都是一样的数。"
   ]
  },
  {
   "cell_type": "code",
   "execution_count": 78,
   "id": "db496171-bcbd-45df-bb72-a60a08a68a06",
   "metadata": {},
   "outputs": [
    {
     "name": "stdin",
     "output_type": "stream",
     "text": [
      " 12321\n"
     ]
    },
    {
     "name": "stdout",
     "output_type": "stream",
     "text": [
      "True\n"
     ]
    }
   ],
   "source": [
    "def x(b):  \n",
    "    a= str(b) \n",
    "    reversed_a=a[::-1]  \n",
    "    return a== reversed_a\n",
    "c=int(input())\n",
    "print(x(c))"
   ]
  },
  {
   "cell_type": "markdown",
   "id": "8bb826cb-ab56-48ef-9c40-e4510c8f8a24",
   "metadata": {},
   "source": [
    "6.编写一个Python函数，返回一个包含斐波那契数列的前N个数的列表。斐波那契数列是一个数列，其中每个数是前两个数的和，数列以0和1开始。"
   ]
  },
  {
   "cell_type": "code",
   "execution_count": 106,
   "id": "3c8b1f3e-e9b6-4af5-98c3-fce0453f437c",
   "metadata": {},
   "outputs": [
    {
     "name": "stdin",
     "output_type": "stream",
     "text": [
      " 6\n"
     ]
    },
    {
     "name": "stdout",
     "output_type": "stream",
     "text": [
      "0 1 1 2 3 5 \n"
     ]
    }
   ],
   "source": [
    "def Fib(N):\n",
    "    if N==1:\n",
    "        a=''\n",
    "        a=a+'0'\n",
    "        print(a)\n",
    "    if N==2:\n",
    "        a=''\n",
    "        a=a+'0'+' '\n",
    "        a=a+'1'\n",
    "        print(a)\n",
    "    if N>2:\n",
    "        N=N-1\n",
    "        e=0\n",
    "        d=1\n",
    "        a=''\n",
    "        a=a+'0'+' '\n",
    "        a=a+'1'+' '\n",
    "        while N!=1:\n",
    "            c=e+d\n",
    "            e=d\n",
    "            d=c\n",
    "            a=a+str(c)+' '\n",
    "            N=N-1\n",
    "    print(a)\n",
    "N=int(input())\n",
    "Fib(N)"
   ]
  },
  {
   "cell_type": "markdown",
   "id": "d1163d54-34f1-43db-b75f-57acd5e4fdc1",
   "metadata": {},
   "source": [
    "7.编写一个Python函数，接受一个整数数组作为输入，返回数组中第二大的数。如果数组中只有一个元素或数组为空，则返回-1。\n"
   ]
  },
  {
   "cell_type": "code",
   "execution_count": 134,
   "id": "98e22862-c959-4d89-9da1-c936e97a45af",
   "metadata": {},
   "outputs": [
    {
     "name": "stdin",
     "output_type": "stream",
     "text": [
      " 34 57 89 37 48 290 0\n"
     ]
    },
    {
     "name": "stdout",
     "output_type": "stream",
     "text": [
      "89\n"
     ]
    }
   ],
   "source": [
    "def s_max(x):\n",
    "    if len(x)<=1:\n",
    "        return -1\n",
    "    else:\n",
    "        sorted_x=sorted(x)\n",
    "    return sorted_x[-2]\n",
    "t=input()\n",
    "s=list(map(int, t.split()))\n",
    "print(s_max(s))"
   ]
  },
  {
   "cell_type": "markdown",
   "id": "e928ab61-0a1c-4082-ac3c-6b0315a15183",
   "metadata": {},
   "source": [
    "8. 编写一个函数，使其能够用正则表达式的方式简单验证身份证号是否合法。"
   ]
  },
  {
   "cell_type": "code",
   "execution_count": 138,
   "id": "3b54bd8b-deca-43c3-a06a-abf0f333415c",
   "metadata": {},
   "outputs": [
    {
     "name": "stdin",
     "output_type": "stream",
     "text": [
      " 11010519491331002X\n"
     ]
    },
    {
     "name": "stdout",
     "output_type": "stream",
     "text": [
      "False\n"
     ]
    }
   ],
   "source": [
    "import re  \n",
    "def validate_id_card(id_card):  \n",
    "    # 定义正则表达式模式  \n",
    "    pattern = r'^[1-9]\\d{5}(19|20)\\d{2}(0[1-9]|1[0-2])(0[1-9]|[1-2]\\d|3[0-1])\\d{3}(\\d|X|x)$'    \n",
    "    if re.match(pattern, id_card):  \n",
    "        return True  \n",
    "    else:  \n",
    "        return False  \n",
    "x=input()\n",
    "print(validate_id_card(x))"
   ]
  }
 ],
 "metadata": {
  "kernelspec": {
   "display_name": "Python 3 (ipykernel)",
   "language": "python",
   "name": "python3"
  },
  "language_info": {
   "codemirror_mode": {
    "name": "ipython",
    "version": 3
   },
   "file_extension": ".py",
   "mimetype": "text/x-python",
   "name": "python",
   "nbconvert_exporter": "python",
   "pygments_lexer": "ipython3",
   "version": "3.11.7"
  }
 },
 "nbformat": 4,
 "nbformat_minor": 5
}
